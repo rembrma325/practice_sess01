{
 "cells": [
  {
   "cell_type": "code",
   "execution_count": 6,
   "id": "8dad900f",
   "metadata": {},
   "outputs": [
    {
     "name": "stdout",
     "output_type": "stream",
     "text": [
      "1\n"
     ]
    }
   ],
   "source": [
    "import numpy\n",
    "a=numpy.array([1,2,3])\n",
    "print(a.ndim)\n"
   ]
  },
  {
   "cell_type": "code",
   "execution_count": 8,
   "id": "37c6f1d9",
   "metadata": {},
   "outputs": [
    {
     "name": "stdout",
     "output_type": "stream",
     "text": [
      "2\n"
     ]
    }
   ],
   "source": [
    "b=numpy.array([[1,2,3]])\n",
    "print(b.ndim)"
   ]
  },
  {
   "cell_type": "code",
   "execution_count": 16,
   "id": "a099cf95",
   "metadata": {},
   "outputs": [
    {
     "name": "stdout",
     "output_type": "stream",
     "text": [
      "3\n",
      "3\n"
     ]
    }
   ],
   "source": [
    "b = numpy.array([[[1, 2, 3], [4, 5, 6]],[[1, 2, 3], [4, 5, 6]]])\n",
    "print(b.ndim)\n",
    "print(b[0][0][2])"
   ]
  },
  {
   "cell_type": "code",
   "execution_count": 17,
   "id": "fbc4b316",
   "metadata": {},
   "outputs": [
    {
     "name": "stdout",
     "output_type": "stream",
     "text": [
      "0\n"
     ]
    }
   ],
   "source": [
    "c=numpy.array(1)\n",
    "print(c.ndim)"
   ]
  }
 ],
 "metadata": {
  "kernelspec": {
   "display_name": "Python 3 (ipykernel)",
   "language": "python",
   "name": "python3"
  },
  "language_info": {
   "codemirror_mode": {
    "name": "ipython",
    "version": 3
   },
   "file_extension": ".py",
   "mimetype": "text/x-python",
   "name": "python",
   "nbconvert_exporter": "python",
   "pygments_lexer": "ipython3",
   "version": "3.9.13"
  }
 },
 "nbformat": 4,
 "nbformat_minor": 5
}
