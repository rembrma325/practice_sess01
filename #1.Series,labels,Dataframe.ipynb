{
 "cells": [
  {
   "cell_type": "code",
   "execution_count": 8,
   "id": "b4be2b3f",
   "metadata": {},
   "outputs": [
    {
     "name": "stdout",
     "output_type": "stream",
     "text": [
      "     cars cost\n",
      "0    audi   1l\n",
      "1    benz   2l\n",
      "2  toyota   3l\n"
     ]
    }
   ],
   "source": [
    "import pandas as pd\n",
    "a={\"cars\":[\"audi\",\"benz\",\"toyota\"],\"cost\":[\"1l\",\"2l\",\"3l\"]}\n",
    "pd.DataFrame(a)#this statement just creates the dataFrame but u cant call it as u didnt assigned it to some var so do assign as below\n",
    "db=pd.DataFrame(a)\n",
    "print(db)"
   ]
  },
  {
   "cell_type": "markdown",
   "id": "41b4d998",
   "metadata": {},
   "source": [
    "# series "
   ]
  },
  {
   "cell_type": "markdown",
   "id": "ad065cd9",
   "metadata": {},
   "source": [
    "series is like a column a column in a table\n",
    "it is a one dimensional array with ele of any type"
   ]
  },
  {
   "cell_type": "code",
   "execution_count": 14,
   "id": "fe5a644d",
   "metadata": {},
   "outputs": [
    {
     "name": "stdout",
     "output_type": "stream",
     "text": [
      "series of list a\n",
      "0    1\n",
      "1    2\n",
      "2    3\n",
      "dtype: int64\n",
      "series of ndarray b\n",
      "0    1\n",
      "1    2\n",
      "2    3\n",
      "dtype: int64\n"
     ]
    }
   ],
   "source": [
    "import numpy as np\n",
    "a=[1,2,3]#u might think as u said array but it is list the thing list is also array but numpy arrays are ndarray\n",
    "#or\n",
    "b=np.array([1,2,3])\n",
    "ase=pd.Series(a)\n",
    "bse=pd.Series(b)\n",
    "print(\"series of list a\")\n",
    "print(ase)\n",
    "print(\"series of ndarray b\")\n",
    "print(bse)"
   ]
  },
  {
   "cell_type": "raw",
   "id": "c390830b",
   "metadata": {},
   "source": [
    "as we see in the output above the ele of array are labelled with index means see in 1st series out there 1 is labelled with index 0 then 2 is labelled with index 1 and so on\n",
    "\n",
    "so now what if we want to label them as per our requirement then the concept of label comes\n"
   ]
  },
  {
   "cell_type": "markdown",
   "id": "e114c83d",
   "metadata": {},
   "source": [
    "# label(labelling rows with our own indexes other than normal index(0,1,2..))"
   ]
  },
  {
   "cell_type": "code",
   "execution_count": 19,
   "id": "f3eadd64",
   "metadata": {},
   "outputs": [
    {
     "name": "stdout",
     "output_type": "stream",
     "text": [
      "without labelling using index\n",
      "0    1\n",
      "1    2\n",
      "2    3\n",
      "dtype: int64\n",
      "with labelling using index\n",
      "1st row    1\n",
      "2nd row    2\n",
      "3rd row    3\n",
      "dtype: int64\n"
     ]
    }
   ],
   "source": [
    "k=np.array([1,2,3])\n",
    "print(\"without labelling using index\")\n",
    "ks1=pd.Series(k)\n",
    "print(ks1)\n",
    "print(\"with labelling using index\")\n",
    "ks2=pd.Series(k,index=[\"1st row\",\"2nd row\",\"3rd row\"])\n",
    "print(ks2)"
   ]
  }
 ],
 "metadata": {
  "kernelspec": {
   "display_name": "Python 3 (ipykernel)",
   "language": "python",
   "name": "python3"
  },
  "language_info": {
   "codemirror_mode": {
    "name": "ipython",
    "version": 3
   },
   "file_extension": ".py",
   "mimetype": "text/x-python",
   "name": "python",
   "nbconvert_exporter": "python",
   "pygments_lexer": "ipython3",
   "version": "3.9.13"
  }
 },
 "nbformat": 4,
 "nbformat_minor": 5
}
