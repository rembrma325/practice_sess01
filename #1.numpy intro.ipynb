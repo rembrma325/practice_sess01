{
 "cells": [
  {
   "cell_type": "markdown",
   "id": "2cd42909",
   "metadata": {},
   "source": [
    "# why do we use numpy\n"
   ]
  },
  {
   "cell_type": "markdown",
   "id": "52e24ef2",
   "metadata": {},
   "source": [
    "NumPy is a popular library for numerical computing in Python. There are several reasons why it's widely used:\n",
    "\n",
    "Speed: NumPy is faster than the standard Python list data structure because it uses a fixed-sized contiguous block of memory to store its elements. This makes NumPy operations faster than those performed on lists.\n",
    "\n",
    "Convenience: NumPy provides a large number of convenient functions for performing operations on arrays, including mathematical functions, linear algebra operations, and statistical functions.\n",
    "\n",
    "Integration with other libraries: NumPy arrays can be easily integrated with other libraries in the scientific Python ecosystem, such as Matplotlib, Pandas, and SciPy, making it a versatile tool for data analysis and scientific computing.\n",
    "\n",
    "Support for multidimensional arrays: NumPy supports the creation and manipulation of multidimensional arrays, which are essential for many scientific and engineering applications.\n",
    "\n",
    "Overall, NumPy provides a fast, convenient, and powerful environment for numerical computing in Python, making it an essential tool for data scientists, machine learning practitioners, and researchers.\n",
    "\n",
    "\n",
    "\n",
    "\n",
    "\n"
   ]
  },
  {
   "cell_type": "markdown",
   "id": "67cc3ae8",
   "metadata": {},
   "source": [
    "# why numpy arrays are faster than python lists"
   ]
  },
  {
   "cell_type": "markdown",
   "id": "cc3ea8b9",
   "metadata": {},
   "source": [
    "NumPy arrays are faster than lists in Python for several reasons:\n",
    "\n",
    "Vectorized Operations: NumPy arrays support vectorized operations, which are computationally more efficient than traditional loops in Python. This is because NumPy operations are executed in a highly optimized C loop, while operations on Python lists are executed in a dynamic, interpreted environment.\n",
    "\n",
    "Memory layout: NumPy arrays are stored in a contiguous block of memory, while lists are stored as a linked list of elements, which can be scattered across different memory locations. This contiguous memory layout makes NumPy arrays more cache-friendly and enables faster indexing and slicing operations.\n",
    "\n",
    "Type consistency: In NumPy, all elements of an array must be of the same type, while in Python lists, elements can be of different types. Having a homogeneous data type enables NumPy to use more efficient algorithms for computation and reduces the overhead of type checking.\n",
    "\n",
    "Broadcasting: NumPy supports broadcasting, which allows for efficient operations between arrays of different shapes. Broadcasting enables you to perform operations between arrays without having to write explicit for loops, which can be computationally expensive in Python.\n",
    "\n",
    "In summary, NumPy arrays are faster than lists because they are more optimized for numerical computation, have a more efficient memory layout, enforce type consistency, and support broadcasting.\n",
    "\n"
   ]
  },
  {
   "cell_type": "markdown",
   "id": "8b3c99b5",
   "metadata": {},
   "source": [
    "# Important Points own "
   ]
  },
  {
   "cell_type": "raw",
   "id": "e1f13dac",
   "metadata": {},
   "source": [
    "\n",
    "1)numpy arrays are faster than python lists bcz numpy is buit using c which is very much optimised with the machine\n",
    "2)numpy has array object named ndarray \n",
    "3)we can create a object of type ndarray using the array function(numpy.array()) and u should pass the list or tuple or any other array like object if u do pass multiple values without using any kind of list or tuple it shows error saying that u cant pass more values so np.array() accepts only one value bydefalult if u want to pass more than one value u need to use lists or tuple\n",
    "4)\n"
   ]
  },
  {
   "cell_type": "markdown",
   "id": "262d487c",
   "metadata": {},
   "source": [
    "# numpy"
   ]
  },
  {
   "cell_type": "code",
   "execution_count": 1,
   "id": "8375e3a2",
   "metadata": {},
   "outputs": [
    {
     "name": "stdout",
     "output_type": "stream",
     "text": [
      "<class 'numpy.ndarray'>\n",
      "[1 2 3]\n",
      "[0 9 8]\n",
      "1\n",
      "1\n",
      "1\n"
     ]
    }
   ],
   "source": [
    "import numpy\n",
    "a=numpy.array(1)#creating a ndarray using the numpy.array() method or function\n",
    "print(type(a))\n",
    "#b=numpy.array(1,2) #shows error u need to use any array type object inside the array method to pass more than one value\n",
    "c=numpy.array([1,2,3])\n",
    "#or\n",
    "d=numpy.array((0,9,8))\n",
    "print(c)\n",
    "print(d)\n",
    "print(a)\n",
    "#accessing particular elements of ndarray\n",
    "print(c[0])#using [] bcz we know syntax is using [] in python to access list\n",
    "\n",
    "import numpy as np\n",
    "a=np.array([1,2,3])\n",
    "print(a.ndim)\n"
   ]
  },
  {
   "cell_type": "markdown",
   "id": "b10dbc63",
   "metadata": {},
   "source": [
    "\n",
    "\n",
    "# higher dimension  ndim(no of dimensions)"
   ]
  },
  {
   "cell_type": "code",
   "execution_count": 40,
   "id": "e2d88e9b",
   "metadata": {},
   "outputs": [
    {
     "name": "stdout",
     "output_type": "stream",
     "text": [
      "[[[[[1 2 3 4]]]]]\n"
     ]
    },
    {
     "data": {
      "text/plain": [
       "'In this array the innermost dimension (5th dim) has 4 elements, the 4th dim has 1 element that is the vector, the 3rd dim has 1 element that is the matrix with the vector, the 2nd dim has 1 element that is 3D array and 1st dim has 1 element that is a 4D array.'"
      ]
     },
     "execution_count": 40,
     "metadata": {},
     "output_type": "execute_result"
    }
   ],
   "source": [
    "import numpy as kk\n",
    "a=kk.array([1,2,3,4],ndmin=5)#NOTE: ndmin HERE NOT ndim\n",
    "print(a)\n",
    "\"\"\"In this array the innermost dimension (5th dim) has 4 elements, the 4th dim has 1 element that is the vector, the 3rd dim has 1 element that is the matrix with the vector, the 2nd dim has 1 element that is 3D array and 1st dim has 1 element that is a 4D array.\"\"\""
   ]
  },
  {
   "cell_type": "code",
   "execution_count": null,
   "id": "60bf20e6",
   "metadata": {},
   "outputs": [],
   "source": []
  }
 ],
 "metadata": {
  "kernelspec": {
   "display_name": "Python 3 (ipykernel)",
   "language": "python",
   "name": "python3"
  },
  "language_info": {
   "codemirror_mode": {
    "name": "ipython",
    "version": 3
   },
   "file_extension": ".py",
   "mimetype": "text/x-python",
   "name": "python",
   "nbconvert_exporter": "python",
   "pygments_lexer": "ipython3",
   "version": "3.9.13"
  }
 },
 "nbformat": 4,
 "nbformat_minor": 5
}
