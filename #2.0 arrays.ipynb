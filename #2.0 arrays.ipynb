{
 "cells": [
  {
   "cell_type": "markdown",
   "id": "820ebd64",
   "metadata": {},
   "source": [
    "# ndim"
   ]
  },
  {
   "cell_type": "markdown",
   "id": "89c5e29f",
   "metadata": {},
   "source": [
    "ndim is a property of a NumPy array, not a function. It is used to determine the number of dimensions in an array.\n",
    "\n",
    "In NumPy, an array can be thought of as a grid of values, where each value is called an element. The number of dimensions of an array is the number of indices required to access a single element of the array. For example, a 1-dimensional array would be a simple vector, where each element can be accessed by a single index, whereas a 2-dimensional array would be a matrix, where each element requires two indices to be accessed.\n",
    "\n",
    "The ndim property returns the number of dimensions in a NumPy array. You can access the ndim property by simply referencing it as an attribute of the NumPy array object:\n",
    "\n",
    "import numpy as np\n",
    "\n",
    "a = np.array([1, 2, 3, 4])\n",
    "print(a.ndim)  # Output: 1\n",
    "\n",
    "b = np.array([[1, 2, 3], [4, 5, 6]])\n",
    "print(b.ndim)  # Output: 2\n",
    "\n",
    "\n",
    "In the example above, the ndim property returns 1 for the 1-dimensional array a and 2 for the 2-dimensional array b."
   ]
  },
  {
   "cell_type": "markdown",
   "id": "fe8bfcaa",
   "metadata": {},
   "source": [
    "# 0d"
   ]
  },
  {
   "cell_type": "code",
   "execution_count": 9,
   "id": "0ced3a95",
   "metadata": {},
   "outputs": [
    {
     "name": "stdout",
     "output_type": "stream",
     "text": [
      "0\n"
     ]
    }
   ],
   "source": [
    "import numpy as np\n",
    "a=np.array(0)\n",
    "print(a.ndim)"
   ]
  },
  {
   "cell_type": "markdown",
   "id": "14275e75",
   "metadata": {},
   "source": [
    "# 1d"
   ]
  },
  {
   "cell_type": "code",
   "execution_count": 10,
   "id": "5d57455e",
   "metadata": {},
   "outputs": [
    {
     "name": "stdout",
     "output_type": "stream",
     "text": [
      "1\n"
     ]
    }
   ],
   "source": [
    "a=np.array([1,2,3])\n",
    "#a=np.array([1,2,3],[4,5,6])this doesnt work bcz first rule is if u want to give more than one value to a ndarray u must use any array like obj such as list,tuple\n",
    "print(a.ndim)"
   ]
  },
  {
   "cell_type": "markdown",
   "id": "19619e88",
   "metadata": {},
   "source": [
    "# 2d"
   ]
  },
  {
   "cell_type": "code",
   "execution_count": 26,
   "id": "b1700d1b",
   "metadata": {},
   "outputs": [
    {
     "name": "stdout",
     "output_type": "stream",
     "text": [
      "2\n",
      "(2, 3)\n",
      "2\n",
      "(3, 2)\n",
      "2\n",
      "(1, 2)\n"
     ]
    },
    {
     "name": "stderr",
     "output_type": "stream",
     "text": [
      "/var/folders/j2/7vzyj65535sdpxn_vd38sncm0000gn/T/ipykernel_2860/2131387858.py:14: VisibleDeprecationWarning: Creating an ndarray from ragged nested sequences (which is a list-or-tuple of lists-or-tuples-or ndarrays with different lengths or shapes) is deprecated. If you meant to do this, you must specify 'dtype=object' when creating the ndarray.\n",
      "  d=np.array([[1,2],[7,8],[9]])\n"
     ]
    }
   ],
   "source": [
    "#ex1\n",
    "a=np.array([[1,2,3],[4,5,6]])#this line creates a matrix of 2X3 matrix 2 rows 3 cols\n",
    "print(a.ndim)\n",
    "print(a.shape)\n",
    "#ex2\n",
    "b=np.array([[1,2],[4,5],[6,7]])#this line creates a matrix of 3X2 matrix 3 rows 2 cols\n",
    "print(b.ndim)\n",
    "print(b.shape)\n",
    "#ex3\n",
    "c=np.array([[1,2]])#this line creates a matrix of 1X2 matrix 1 rows 2 cols\n",
    "print(c.ndim) \n",
    "print(c.shape)\n",
    "#ex4\n",
    "d=np.array([[1,2],[7,8],[9]])\n",
    "#here the 3rd 1d array which is [9] is not as same shape ([1,2],[7,8])\n"
   ]
  },
  {
   "cell_type": "markdown",
   "id": "4dca6cfb",
   "metadata": {},
   "source": [
    "# 3d(assume 3d array as cube of 2d matrices as layers)"
   ]
  },
  {
   "cell_type": "code",
   "execution_count": 31,
   "id": "936cb92b",
   "metadata": {},
   "outputs": [
    {
     "name": "stdout",
     "output_type": "stream",
     "text": [
      "3\n",
      "(2, 2, 3)\n",
      "3\n",
      "(1, 1, 3)\n"
     ]
    },
    {
     "name": "stderr",
     "output_type": "stream",
     "text": [
      "/var/folders/j2/7vzyj65535sdpxn_vd38sncm0000gn/T/ipykernel_2860/1345998098.py:15: VisibleDeprecationWarning: Creating an ndarray from ragged nested sequences (which is a list-or-tuple of lists-or-tuples-or ndarrays with different lengths or shapes) is deprecated. If you meant to do this, you must specify 'dtype=object' when creating the ndarray.\n",
      "  c=np.array([[[1,2,3],[4,5,6]],[[9,99,999]]])\n"
     ]
    }
   ],
   "source": [
    "#imp point\n",
    "#1)list of 2d arrays is said to be a 3 dimensional array even the list with one 2d array is also a 3d array with shape (1,(shape of 2d array))\n",
    "\n",
    "#exp1\n",
    "a=np.array([[[1,2,3],[4,5,6]],[[8,9,0],[3,5,6]]])#here a is 3d array with two 2d arrays \n",
    "print(a.ndim)\n",
    "print(a.shape)#returns(noofmatrices,no.of.rows,no.of.columns)\n",
    "\n",
    "#exp2\n",
    "b=np.array([[[1,2,3]]])\n",
    "print(b.ndim)\n",
    "print(b.shape)\n",
    "\n",
    "#exp3 \n",
    "c=np.array([[[1,2,3],[4,5,6]],[[9,99,999]]])\n",
    "#the above one shows error bcz see in the list of 2d arrays see shape of first 2d arrya which is (2X3) matrix but the second 2d array is of (1X3) which is not same as the first 2d array so it coudnt be placed as a layer of cube"
   ]
  },
  {
   "cell_type": "markdown",
   "id": "0fa13b68",
   "metadata": {},
   "source": [
    "# HIGHER DIMENSION(HOW TO CREATE AN OF DIMENSION MORE THAN 3 WHICH IS DIFFICULT "
   ]
  },
  {
   "cell_type": "code",
   "execution_count": 43,
   "id": "ea8ce21c",
   "metadata": {},
   "outputs": [
    {
     "name": "stdout",
     "output_type": "stream",
     "text": [
      "[[[[1 2 3]]]]\n",
      "4\n",
      "[[1 2 3]\n",
      " [4 5 6]]\n",
      "2\n"
     ]
    }
   ],
   "source": [
    "a=np.array([[1,2,3]],ndmin=4)#NOTE: ndmin(minimum no.of dimensions) HERE NOT ndim\n",
    "print(a)\n",
    "print(a.ndim)\n",
    "#exp for above code:her a is of 2dimension by usage of ndimn the dimension of array are moved to 4\n",
    "\n",
    "         #what if we try to decrease the dimensions of a array\n",
    "b=np.array([[1,2,3],[4,5,6]],ndmin=1)\n",
    "print(b)\n",
    "print(b.ndim)\n",
    "\n",
    "##exp for above code: see above the array b is of dimension 2 but we mentioned 1 in ndmin i.e., we tried to decrease the dimension but if we look at the output it doesn execute which means we cant decrease the dimensions of an array which in fact is also impossible with respect to mathematical nature"
   ]
  },
  {
   "cell_type": "markdown",
   "id": "016b69e8",
   "metadata": {},
   "source": [
    "#                        # array indexing\n"
   ]
  },
  {
   "cell_type": "markdown",
   "id": "dcf0757d",
   "metadata": {},
   "source": [
    "#accesing ele in 1d array"
   ]
  },
  {
   "cell_type": "code",
   "execution_count": 48,
   "id": "dffa90d8",
   "metadata": {},
   "outputs": [
    {
     "name": "stdout",
     "output_type": "stream",
     "text": [
      "1\n",
      "3\n"
     ]
    }
   ],
   "source": [
    "a=np.array([1,2,3])\n",
    "print(a[0])#access ele at index one of 1d array\n",
    "print(a[2])"
   ]
  },
  {
   "cell_type": "markdown",
   "id": "0d54f1d2",
   "metadata": {},
   "source": [
    "#accessing ele in 2d array"
   ]
  },
  {
   "cell_type": "code",
   "execution_count": 52,
   "id": "90873a99",
   "metadata": {},
   "outputs": [
    {
     "name": "stdout",
     "output_type": "stream",
     "text": [
      "9\n",
      "5\n"
     ]
    }
   ],
   "source": [
    "b=np.array([[4,5,6],[7,8,9]])\n",
    "print(b[1][2])#1)in first list goes to list of index 1 then goes to ele of index 2 in that so prints 9\n",
    "print(b[0][1])"
   ]
  },
  {
   "cell_type": "markdown",
   "id": "a69952d9",
   "metadata": {},
   "source": [
    "#accessing ele in 3d array"
   ]
  },
  {
   "cell_type": "code",
   "execution_count": 55,
   "id": "6bb3b883",
   "metadata": {},
   "outputs": [
    {
     "name": "stdout",
     "output_type": "stream",
     "text": [
      "6\n",
      "99\n"
     ]
    }
   ],
   "source": [
    "c=np.array([[[1,2,3],[4,5,6]],[[7,8,9],[77,88,99]]])\n",
    "print(c[0][1][2])\n",
    "\"\"\"\n",
    "1)goes to 1st list in the list bcz index mentioned is0(which means goes to first 2d array(i.e.first matrix))\n",
    "2)then goes to second list in the 2d array(matrix) as index in 1\n",
    "3)and finally meets the ele 6 which is the ele in the 1d arry of 2d array of 3d array with index 2\n",
    "3)so prints 6\n",
    "\n",
    "\"\"\"\n",
    "print(c[1][1][2])"
   ]
  },
  {
   "cell_type": "markdown",
   "id": "78e9bb21",
   "metadata": {},
   "source": [
    "# SLICING OF ARRAYS"
   ]
  },
  {
   "cell_type": "markdown",
   "id": "2f2677b1",
   "metadata": {},
   "source": [
    "SLICING 1D ARRAYS"
   ]
  },
  {
   "cell_type": "code",
   "execution_count": 63,
   "id": "1a19ca9a",
   "metadata": {},
   "outputs": [
    {
     "name": "stdout",
     "output_type": "stream",
     "text": [
      "[2 3]\n",
      "[2 3]\n",
      "[2 3 4]\n",
      "[1 3]\n"
     ]
    }
   ],
   "source": [
    "\"\"\"\n",
    "SYNTAX:\n",
    "    arrayname[startindex:stopindex]\n",
    "            (or)\n",
    "    arrayname[startindex:stopindex:step]\n",
    "\"\"\"\n",
    "a=np.array([1,2,3,4])\n",
    "print(a[1:3])\n",
    "\n",
    "                        #negative slicing on 1d arrays\n",
    "print(a[-3:-1])#here it is not printing the element at index one so below is how to include the ele at index 1 also\n",
    "print(a[-3:])\n",
    "\n",
    "                        #slicing using step\n",
    "print(a[0:4:2])#NOTE:STEP IS LIKE SEE IN ARRAY A IF STEP IS 2 THEN AS START INDEX IS 0 SO IT WILL BE PRINTED THEN THE NEXT STEP WHICH IS FIRSTSTEP GOES TO ELEMENT 2 THIS WILL NOT BE PRINTED BCZ STEP IS 2 BUT WE ARE AT STEP 1 SO 1 MORE STEP THEN GOES TO ELE 3 AS WE ARE STEP 2 IT WILL BE PRINTED NEXT AND THEN TAKE 2 STEP THEN GOES TO INDEX WHERE THERE IS NO ELE SO AT LAST PRINTS TWO ELEMENTS 1,3"
   ]
  },
  {
   "cell_type": "markdown",
   "id": "f4e46cba",
   "metadata": {},
   "source": [
    "SLICING 2D ARRAYS"
   ]
  },
  {
   "cell_type": "code",
   "execution_count": 2,
   "id": "ab902ebe",
   "metadata": {},
   "outputs": [
    {
     "name": "stdout",
     "output_type": "stream",
     "text": [
      "[2 3 4]\n",
      "[2 3 4]\n",
      "exp2\n",
      "[[ 7  8  9 10 11 12]]\n",
      "[[ 2  3  4]\n",
      " [ 8  9 10]]\n",
      "[ 7  8  9 10 11 12]\n",
      "[2 8]\n"
     ]
    }
   ],
   "source": [
    "import numpy as np\n",
    "a=np.array([[1,2,3,4,5,6],[7,8,9,10,11,12],[13,14,15,16,17,18]])\n",
    "            #two ways to slice two dimensional arrays but not in all cases\n",
    "#EXP1\n",
    "print(a[0][1:4])\n",
    "print(a[0,1:4])\n",
    "\n",
    "#exp2\n",
    "print(\"exp2\")\n",
    "print(a[0:2][1:4])#see this one isnt working\n",
    "print(a[0:2,1:4])\n",
    "\n",
    "#exp3\n",
    "print(a[0:2][1])#see this isnt working\n",
    "print(a[0:2,1])\n"
   ]
  }
 ],
 "metadata": {
  "kernelspec": {
   "display_name": "Python 3 (ipykernel)",
   "language": "python",
   "name": "python3"
  },
  "language_info": {
   "codemirror_mode": {
    "name": "ipython",
    "version": 3
   },
   "file_extension": ".py",
   "mimetype": "text/x-python",
   "name": "python",
   "nbconvert_exporter": "python",
   "pygments_lexer": "ipython3",
   "version": "3.9.13"
  }
 },
 "nbformat": 4,
 "nbformat_minor": 5
}
